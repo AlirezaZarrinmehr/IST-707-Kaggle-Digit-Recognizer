{
  "nbformat": 4,
  "nbformat_minor": 0,
  "metadata": {
    "colab": {
      "provenance": [],
      "toc_visible": true,
      "authorship_tag": "ABX9TyN1tf7cNRXsjKddFqsW3dzM",
      "include_colab_link": true
    },
    "kernelspec": {
      "name": "python3",
      "display_name": "Python 3"
    },
    "language_info": {
      "name": "python"
    }
  },
  "cells": [
    {
      "cell_type": "markdown",
      "metadata": {
        "id": "view-in-github",
        "colab_type": "text"
      },
      "source": [
        "<a href=\"https://colab.research.google.com/github/AlirezaZarrinmehr/IST-707-Kaggle-Digit-Recognizer/blob/main/Data-Sampling.ipynb\" target=\"_parent\"><img src=\"https://colab.research.google.com/assets/colab-badge.svg\" alt=\"Open In Colab\"/></a>"
      ]
    },
    {
      "cell_type": "code",
      "execution_count": 3,
      "metadata": {
        "id": "yk_XWgCNVV7D"
      },
      "outputs": [],
      "source": [
        "import numpy\n",
        "import pandas as pd\n",
        "df = pd.read_csv('/content/Kaggle-digit-train.csv')\n",
        "\n",
        "df = df.sample(frac=0.25, random_state=1337)\n",
        "df[\"label\"] = df[\"label\"].astype('category')\n"
      ]
    },
    {
      "cell_type": "code",
      "source": [
        "df.to_csv('/content/training sampled.csv', index=False)"
      ],
      "metadata": {
        "id": "xCfPRfwYWb9n"
      },
      "execution_count": 5,
      "outputs": []
    }
  ]
}